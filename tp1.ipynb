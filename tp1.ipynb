{
 "cells": [
  {
   "cell_type": "markdown",
   "metadata": {},
   "source": [
    "# Criterios de evaluación.\n",
    "\n",
    "* Se deben utilizar nombres de variables descriptivos y claros (Utilizar la nomeclatura correspondiente para los nombres de variables).\n",
    "* Comentarios claros y concisos que expliquen el propósito de cada sección del código.\n",
    "* Entrega en tiempo y forma.\n",
    "* Todo el código desarrollado debe ser subido a un repositorio en GitHub (el nombre del repositorio de seguir la siguiente estructura: tp1_tlp3_nombre_apellido).\n",
    "\n",
    "\n",
    "**Aclaración: Para resolver las actividades se debe incertar casillas de codigo entre cada actividad del cuaderno de Jupyter**"
   ]
  },
  {
   "cell_type": "markdown",
   "metadata": {},
   "source": [
    "### 1. **Hola Mundo y Variables**\n",
    "\n",
    "   - **Actividad 1.1**: Deben escribir un programa que imprima \"¡Hola, Mundo!\" en la consola.\n",
    "   - **Actividad 1.2**: Deben crear una variable llamada `nombre` y hacer que el programa imprima un saludo personalizado: `Hola, <nombre>!`"
   ]
  },
  {
   "cell_type": "code",
   "execution_count": 52,
   "metadata": {},
   "outputs": [
    {
     "name": "stdout",
     "output_type": "stream",
     "text": [
      "hola mundo\n",
      "hola Emilio\n"
     ]
    }
   ],
   "source": [
    "\n",
    "# todo: Resolución\n",
    "print(\"hola mundo\")\n",
    "nombre=\"Emilio\"\n",
    "print(\"hola\", nombre)"
   ]
  },
  {
   "cell_type": "markdown",
   "metadata": {},
   "source": [
    "### 2. **Operaciones Matemáticas Básicas**\n",
    "\n",
    "   - **Actividad 1.1**: Crear un programa que pida al usuario dos números y realice las cuatro operaciones matemáticas básicas (suma, resta, multiplicación y división), imprimiendo los resultados.\n",
    "   - **Actividad 1.2**: Hacer que el programa calcule el promedio de los dos números."
   ]
  },
  {
   "cell_type": "code",
   "execution_count": 53,
   "metadata": {},
   "outputs": [
    {
     "name": "stdout",
     "output_type": "stream",
     "text": [
      "139\n",
      "-115\n",
      "1524\n",
      "0.09448818897637795\n",
      "69.5\n",
      "69\n"
     ]
    }
   ],
   "source": [
    "\n",
    "# todo: Resolución\n",
    "num=(int(input(\"ingrese el primer numero\")))\n",
    "num1=(int(input(\"ingrese el segundo numero\")))\n",
    "print(num+num1)#suma\n",
    "print(num-num1)#resta\n",
    "print(num*num1)#multiplicacion\n",
    "print(num/num1)#division\n",
    "promedio=(num+num1)/2 #promedio\n",
    "print(promedio)\n",
    "promedio2=(num+num1)//2 #promedio entero\n",
    "\n",
    "print(promedio2)\n"
   ]
  },
  {
   "cell_type": "markdown",
   "metadata": {},
   "source": [
    "### 3. **Condicionales (if-else)**\n",
    "\n",
    "   - **Actividad 1.1**: Escribir un programa que pida al usuario su edad y le diga si es mayor de edad (18 años o más).\n",
    "   - **Actividad 1.2**: Agregar un mensaje diferente para diferentes rangos de edad, como por ejemplo, si es un niño, adolescente o adulto."
   ]
  },
  {
   "cell_type": "code",
   "execution_count": 54,
   "metadata": {},
   "outputs": [
    {
     "name": "stdout",
     "output_type": "stream",
     "text": [
      "es niño todavia\n"
     ]
    }
   ],
   "source": [
    "\n",
    "# todo: Resolución\n",
    "edad=(int(input(\"ingrese si edad:\")))\n",
    "\n",
    "if edad>=18: #si es mayor de 18 cumple la condicion y se imprime mayor de edad \n",
    "    print(\"es mayor de edad\")\n",
    "    \n",
    "elif (edad<17 and edad>=13): #si la edad esta entre 17 a 13 se imprime adolescente\n",
    "    print(\"es adolescente\")\n",
    "else:\n",
    "    print(\"es niño todavia\") #si no cumple ninguna de las condiciones anteriores se imprime niño todavia\n",
    "# elif edad<14:\n",
    "#     print(\"es niño todavia\")"
   ]
  },
  {
   "cell_type": "markdown",
   "metadata": {},
   "source": [
    "### 4. **Ciclos (while, for)**\n",
    "\n",
    "   - **Actividad 1.1**: Escribir un programa que imprima los números del 1 al 10 usando un bucle `for`.\n",
    "   - **Actividad 1.2**: Usar un bucle `while` para imprimir los números del 1 al 10, e imprimir solo aquellos números que sean divisibles por 2."
   ]
  },
  {
   "cell_type": "code",
   "execution_count": 55,
   "metadata": {},
   "outputs": [
    {
     "name": "stdout",
     "output_type": "stream",
     "text": [
      "1\n",
      "2\n",
      "3\n",
      "4\n",
      "5\n",
      "6\n",
      "7\n",
      "8\n",
      "9\n",
      "10\n",
      "2\n",
      "4\n",
      "6\n",
      "8\n",
      "10\n"
     ]
    }
   ],
   "source": [
    "\n",
    "# todo: Resolución\n",
    "for i in range(1,11,1):\n",
    "    print(i)\n",
    "    \n",
    "#bucle wile\n",
    "\n",
    "numeros=1 #se inicia la variable en 1\n",
    "\n",
    "while numeros<=10:\n",
    "    if numeros%2==0: #condicion para los numeros pares\n",
    "        print(numeros)\n",
    "    numeros+=1\n"
   ]
  },
  {
   "cell_type": "markdown",
   "metadata": {},
   "source": [
    "### 5. **Listas y Bucles**\n",
    "\n",
    "   - **Actividad 1.1**: Crear una lista con 5 números y escribir un programa que imprima cada número de la lista usando un bucle `for`.\n",
    "   - **Actividad 1.2**: Usar un bucle para calcular la suma de los números de la lista."
   ]
  },
  {
   "cell_type": "code",
   "execution_count": 56,
   "metadata": {},
   "outputs": [
    {
     "name": "stdout",
     "output_type": "stream",
     "text": [
      "1\n",
      "2\n",
      "3\n",
      "4\n",
      "5\n",
      "15\n"
     ]
    }
   ],
   "source": [
    "\n",
    "# todo: Resolución\n",
    "list=[1,2,3,4,5]\n",
    "\n",
    "for i in list:\n",
    "    print(i)\n",
    "\n",
    "sum=0 #variable para sumar los numeros de la lista\n",
    "\n",
    "for numero in list:\n",
    "    sum+=numero #suma de los numeros de la lista\n",
    "print(sum)"
   ]
  },
  {
   "cell_type": "markdown",
   "metadata": {},
   "source": [
    "### 6. **Funciones**\n",
    "\n",
    "   - **Actividad 1.1**: Escribir una función llamada `saludo` que reciba un nombre como parámetro y devuelva un saludo personalizado.\n",
    "   - **Actividad 1.2**: Crear una función que reciba dos números y devuelva su suma, resta, multiplicación y división."
   ]
  },
  {
   "cell_type": "code",
   "execution_count": null,
   "metadata": {},
   "outputs": [
    {
     "name": "stdout",
     "output_type": "stream",
     "text": [
      "hola, Emilio\n",
      "la suma es: 4\n",
      "la resta es: 0\n",
      "la multiplicacion es: 4\n",
      "la division es: 1.0\n"
     ]
    }
   ],
   "source": [
    "\n",
    "# todo: Resolución\n",
    "\n",
    "def saludar(nombre):\n",
    "    print(f\"hola, {nombre}\")\n",
    "\n",
    "saludar(\"Emilio\")\n",
    "\n",
    "nm=(int(input(\"ingrese un numero:\"))) #con el int definimos que sea un numero entero\n",
    "nm1=(int(input(\"ingrese un numero:\")))#el input es para que el usuario ingrese el numero y se le agrega el int antes para que sea un numero entero\n",
    "\n",
    "def operac(nm,nm1):\n",
    "    suma = nm+nm1\n",
    "    resta = nm-nm1\n",
    "    multiplicacion = nm*nm1\n",
    "    division = nm/nm1\n",
    "    return suma, resta, multiplicacion, division\n",
    "suma, resta, multiplicacion, division = operac(nm,nm1)\n",
    "print(f\"la suma es: {suma}\")\n",
    "print(f\"la resta es: {resta}\")\n",
    "print(f\"la multiplicacion es: {multiplicacion}\")\n",
    "print(f\"la division es: {division}\")"
   ]
  },
  {
   "cell_type": "markdown",
   "metadata": {},
   "source": [
    "### 7. **Manejo de cadenas de texto**\n",
    "\n",
    "   - **Actividad 1.1**: Escribir un programa que pida al usuario su nombre y lo imprima en mayúsculas y en minúsculas.\n",
    "   - **Actividad 1.2**: Hacer que el programa imprima la longitud del nombre ingresado (no tener en cuenta los espacios en blanco)."
   ]
  },
  {
   "cell_type": "code",
   "execution_count": 92,
   "metadata": {},
   "outputs": [
    {
     "name": "stdout",
     "output_type": "stream",
     "text": [
      "E\n",
      "m\n",
      "i\n",
      "l\n",
      "i\n",
      "o\n",
      "1\n",
      "2\n",
      "3\n",
      "4\n",
      "5\n",
      "6\n"
     ]
    }
   ],
   "source": [
    "tu_nombre = input(\"ingrese su nombre:\")\n",
    "\n",
    "for i in tu_nombre: #este es una de las formas de recorrer un string\n",
    "    print(i)\n",
    "    \n",
    "#la forma correcta que nos dijo el profe\n",
    "for i in range(1,len(tu_nombre)+1): #el 1 adelante de range es para que el inidice no empiece en 0 \n",
    "    print(i)"
   ]
  },
  {
   "cell_type": "markdown",
   "metadata": {},
   "source": [
    "### 8. **Diccionarios**\n",
    "\n",
    "   - **Actividad1.1**: Crear un diccionario que contenga los nombres de tres personas como claves y sus edades como valores. El programa debe imprimir la edad de cada persona.\n",
    "   - **Actividad1.2**: Escribir un programa que pregunte al usuario un nombre, luego su edad y los agregue al diccionario."
   ]
  },
  {
   "cell_type": "code",
   "execution_count": null,
   "metadata": {},
   "outputs": [],
   "source": []
  },
  {
   "cell_type": "code",
   "execution_count": null,
   "metadata": {},
   "outputs": [
    {
     "name": "stdout",
     "output_type": "stream",
     "text": [
      "20\n",
      "20\n",
      "23\n",
      "{'Emilio': 20, 'Lucianno': 20, 'marce': 23, 'jjuan': 12}\n"
     ]
    }
   ],
   "source": [
    "\n",
    "# todo: Resolución\n",
    "dic_mom={\"Emilio\":20,\"Lucianno\":20 ,\"marce\": 23 } #diccionario\n",
    "\n",
    "for value in dic_mom.values():\n",
    "    print(value)\n",
    "    \n",
    "    \n",
    "nuevo_nombre = input(\"Ingrese un nombre: \")\n",
    "nueva_edad = int(input(\"Ingrese la edad: \"))\n",
    "\n",
    "dic_mom[nuevo_nombre] = nueva_edad #agregar una clave y valor al diccionario\n",
    "print(dic_mom)\n"
   ]
  },
  {
   "cell_type": "markdown",
   "metadata": {},
   "source": [
    "### 9. **Números aleatorios**\n",
    "\n",
    "   - **Actividad 1.1**: Escribir un programa que genere 5 números aleatorios entre 1 y 100, lo imprima por consola y diga si es mayor o menor a 50.\n",
    "   - **Actividad 1.2**: Sumar los 5 números generados aleatoriamente y en caso de que el resultado sea mayor a 100, mostrar el valor antes de ser mayor a 100 y cuantos números se sumaron para llegar a dicho valor."
   ]
  },
  {
   "cell_type": "code",
   "execution_count": 141,
   "metadata": {},
   "outputs": [
    {
     "name": "stdout",
     "output_type": "stream",
     "text": [
      "87\n",
      "37\n",
      "38\n",
      "50\n",
      "26\n",
      "la suma de los numeros ramdon es: 202\n"
     ]
    }
   ],
   "source": [
    "\n",
    "# todo: Resolución\n",
    "import random #importamos la libreria que nos brindan numeros aleatorios\n",
    "for _ in range(5):\n",
    "    ramdon_numero=random.randint(1, 100) #se genera un numero aleatorio entre 1 y 100\n",
    "    print(ramdon_numero)\n",
    "    \n",
    "suma=0\n",
    "\n",
    "for _ in range(5): #el guin bajo es para indicar que no se va a usar la variable\n",
    "    ramdon_numero=random.randint(1, 100)\n",
    "    suma+=ramdon_numero\n",
    "print(f\"la suma de los numeros ramdon es: {suma}\")"
   ]
  },
  {
   "cell_type": "markdown",
   "metadata": {},
   "source": [
    "### 10. **Proyecto Final: Calculadora**\n",
    "\n",
    "   - **Actividad 1.1**: Los estudiantes deben crear una calculadora básica que permita realizar operaciones de suma, resta, multiplicación y división con entradas del usuario. El programa debe pedir al usuario que elija la operación y luego introducir 2 números para realizar el cálculo.\n",
    "   - **Actividad 1.2**: Implementar una opción para que el usuario pueda continuar haciendo cálculos o salir del programa."
   ]
  },
  {
   "cell_type": "code",
   "execution_count": null,
   "metadata": {},
   "outputs": [
    {
     "name": "stdout",
     "output_type": "stream",
     "text": [
      "Resultado de la multiplicación: 2.0\n"
     ]
    }
   ],
   "source": [
    "\n",
    "# todo: Resolución\n",
    "# Funciones para las operaciones básicas\n",
    "def suma(x, y):\n",
    "    return x + y\n",
    "\n",
    "def resta(x, y):\n",
    "    return x - y\n",
    "\n",
    "def multiplicacion(x, y):\n",
    "    return x * y\n",
    "\n",
    "def division(x, y):\n",
    "    if y != 0:\n",
    "        return x / y\n",
    "    else:\n",
    "        return \"Error: No se puede dividir por cero\"\n",
    "# Solicitar la elección de la operación\n",
    "operacion = input(\"Ingrese el número de la operación que desea realizar (1.suma/2.resta/3.mutiplicacion/4.division): \")\n",
    "\n",
    "# Solicitar los dos números\n",
    "numero1 = float(input(\"Ingrese el primer número: \"))\n",
    "numero2 = float(input(\"Ingrese el segundo número: \"))\n",
    "\n",
    "# Realizar la operación seleccionada\n",
    "if operacion == '1':\n",
    "    print(f\"Resultado de la suma: {suma(numero1, numero2)}\")\n",
    "elif operacion == '2':\n",
    "    print(f\"Resultado de la resta: {resta(numero1, numero2)}\")\n",
    "elif operacion == '3':\n",
    "    print(f\"Resultado de la multiplicación: {multiplicacion(numero1, numero2)}\")\n",
    "elif operacion == '4':\n",
    "    print(f\"Resultado de la división: {division(numero1, numero2)}\")\n",
    "else:\n",
    "    print(\"Operación no válida\")\n",
    "    \n",
    "##perdon ya no me da la cabeza para sseguir haciendo la siguiente consigna\n",
    "\n"
   ]
  },
  {
   "cell_type": "markdown",
   "metadata": {},
   "source": [
    "### EXTRA. **Juegos Simples (Adivina el número)**\n",
    "\n",
    "   - **Actividad 1.1**: Escribir un juego donde el programa elija un número aleatorio entre 1 y 100 y el usuario tenga que adivinarlo. El programa debe dar pistas si el número es mayor o menor.\n",
    "   - **Actividad 1.2**: Limitar el número de intentos y mostrar un mensaje de éxito o fracaso al final."
   ]
  },
  {
   "cell_type": "code",
   "execution_count": 1,
   "metadata": {},
   "outputs": [
    {
     "name": "stdout",
     "output_type": "stream",
     "text": [
      "¡Bienvenido al juego de adivinar el número!\n",
      "Estoy pensando en un número entre 1 y 100.\n",
      "Por favor, ingresa un número válido.\n",
      "El número es mayor. Intenta de nuevo.\n",
      "El número es mayor. Intenta de nuevo.\n",
      "El número es menor. Intenta de nuevo.\n",
      "El número es menor. Intenta de nuevo.\n",
      "El número es menor. Intenta de nuevo.\n",
      "El número es menor. Intenta de nuevo.\n",
      "El número es menor. Intenta de nuevo.\n",
      "El número es menor. Intenta de nuevo.\n",
      "El número es menor. Intenta de nuevo.\n",
      "El número es menor. Intenta de nuevo.\n",
      "El número es menor. Intenta de nuevo.\n",
      "El número es mayor. Intenta de nuevo.\n",
      "El número es mayor. Intenta de nuevo.\n",
      "El número es mayor. Intenta de nuevo.\n",
      "El número es menor. Intenta de nuevo.\n",
      "El número es menor. Intenta de nuevo.\n",
      "El número es menor. Intenta de nuevo.\n",
      "El número es menor. Intenta de nuevo.\n",
      "El número es menor. Intenta de nuevo.\n",
      "El número es menor. Intenta de nuevo.\n",
      "El número es menor. Intenta de nuevo.\n",
      "El número es menor. Intenta de nuevo.\n",
      "El número es menor. Intenta de nuevo.\n",
      "El número es menor. Intenta de nuevo.\n",
      "El número es menor. Intenta de nuevo.\n",
      "El número es menor. Intenta de nuevo.\n",
      "El número es mayor. Intenta de nuevo.\n",
      "El número es mayor. Intenta de nuevo.\n",
      "El número es mayor. Intenta de nuevo.\n",
      "¡Felicidades! ¡Has adivinado el número en 30 intentos!\n",
      "¡Gracias por jugar!\n"
     ]
    }
   ],
   "source": [
    "import random\n",
    "\n",
    "def juego_adivina_numero():\n",
    "    # Generar un número aleatorio entre 1 y 100\n",
    "    numero_secreto = random.randint(1, 100)\n",
    "    intentos = 0\n",
    "    adivinado = False\n",
    "    \n",
    "    print(\"¡Bienvenido al juego de adivinar el número!\")\n",
    "    print(\"Estoy pensando en un número entre 1 y 100.\")\n",
    "    \n",
    "    while not adivinado:\n",
    "        # Pedir al usuario que adivine\n",
    "        try:\n",
    "            intento = int(input(\"Adivina el número: \"))\n",
    "            intentos += 1\n",
    "            \n",
    "            # Comprobar si el número es correcto\n",
    "            if intento == numero_secreto:\n",
    "                print(f\"¡Felicidades! ¡Has adivinado el número en {intentos} intentos!\")\n",
    "                adivinado = True\n",
    "            elif intento < numero_secreto:\n",
    "                print(\"El número es mayor. Intenta de nuevo.\")\n",
    "            else:\n",
    "                print(\"El número es menor. Intenta de nuevo.\")\n",
    "        except ValueError:\n",
    "            print(\"Por favor, ingresa un número válido.\")\n",
    "\n",
    "    print(\"¡Gracias por jugar!\")\n",
    "\n",
    "# Ejecutar el juego\n",
    "if __name__ == \"__main__\":\n",
    "    juego_adivina_numero()"
   ]
  }
 ],
 "metadata": {
  "kernelspec": {
   "display_name": "Python 3",
   "language": "python",
   "name": "python3"
  },
  "language_info": {
   "codemirror_mode": {
    "name": "ipython",
    "version": 3
   },
   "file_extension": ".py",
   "mimetype": "text/x-python",
   "name": "python",
   "nbconvert_exporter": "python",
   "pygments_lexer": "ipython3",
   "version": "3.12.9"
  }
 },
 "nbformat": 4,
 "nbformat_minor": 2
}
