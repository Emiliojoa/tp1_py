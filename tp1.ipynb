{
 "cells": [
  {
   "cell_type": "markdown",
   "metadata": {},
   "source": [
    "# Criterios de evaluación.\n",
    "\n",
    "* Se deben utilizar nombres de variables descriptivos y claros (Utilizar la nomeclatura correspondiente para los nombres de variables).\n",
    "* Comentarios claros y concisos que expliquen el propósito de cada sección del código.\n",
    "* Entrega en tiempo y forma.\n",
    "* Todo el código desarrollado debe ser subido a un repositorio en GitHub (el nombre del repositorio de seguir la siguiente estructura: tp1_tlp3_nombre_apellido).\n",
    "\n",
    "\n",
    "**Aclaración: Para resolver las actividades se debe incertar casillas de codigo entre cada actividad del cuaderno de Jupyter**"
   ]
  },
  {
   "cell_type": "markdown",
   "metadata": {},
   "source": [
    "### 1. **Hola Mundo y Variables**\n",
    "\n",
    "   - **Actividad 1.1**: Deben escribir un programa que imprima \"¡Hola, Mundo!\" en la consola.\n",
    "   - **Actividad 1.2**: Deben crear una variable llamada `nombre` y hacer que el programa imprima un saludo personalizado: `Hola, <nombre>!`"
   ]
  },
  {
   "cell_type": "code",
   "execution_count": null,
   "metadata": {},
   "outputs": [
    {
     "name": "stdout",
     "output_type": "stream",
     "text": [
      "hola mundo\n",
      "hola Emilio\n",
      "3\n"
     ]
    }
   ],
   "source": [
    "\n",
    "# todo: Resolución\n",
    "print(\"hola mundo\")\n",
    "nombre=\"Emilio\"\n",
    "print(\"hola\", nombre)\n",
    "def muti(a,b):\n",
    "    return a*b\n",
    "print(multi(2,3))"
   ]
  },
  {
   "cell_type": "markdown",
   "metadata": {},
   "source": [
    "### 2. **Operaciones Matemáticas Básicas**\n",
    "\n",
    "   - **Actividad 1.1**: Crear un programa que pida al usuario dos números y realice las cuatro operaciones matemáticas básicas (suma, resta, multiplicación y división), imprimiendo los resultados.\n",
    "   - **Actividad 1.2**: Hacer que el programa calcule el promedio de los dos números."
   ]
  },
  {
   "cell_type": "code",
   "execution_count": 53,
   "metadata": {},
   "outputs": [
    {
     "name": "stdout",
     "output_type": "stream",
     "text": [
      "139\n",
      "-115\n",
      "1524\n",
      "0.09448818897637795\n",
      "69.5\n",
      "69\n"
     ]
    }
   ],
   "source": [
    "\n",
    "# todo: Resolución\n",
    "num=(int(input(\"ingrese el primer numero\")))\n",
    "num1=(int(input(\"ingrese el segundo numero\")))\n",
    "print(num+num1)#suma\n",
    "print(num-num1)#resta\n",
    "print(num*num1)#multiplicacion\n",
    "print(num/num1)#division\n",
    "promedio=(num+num1)/2 #promedio\n",
    "print(promedio)\n",
    "promedio2=(num+num1)//2 #promedio entero\n",
    "\n",
    "print(promedio2)\n"
   ]
  },
  {
   "cell_type": "markdown",
   "metadata": {},
   "source": [
    "### 3. **Condicionales (if-else)**\n",
    "\n",
    "   - **Actividad 1.1**: Escribir un programa que pida al usuario su edad y le diga si es mayor de edad (18 años o más).\n",
    "   - **Actividad 1.2**: Agregar un mensaje diferente para diferentes rangos de edad, como por ejemplo, si es un niño, adolescente o adulto."
   ]
  },
  {
   "cell_type": "code",
   "execution_count": 54,
   "metadata": {},
   "outputs": [
    {
     "name": "stdout",
     "output_type": "stream",
     "text": [
      "es niño todavia\n"
     ]
    }
   ],
   "source": [
    "\n",
    "# todo: Resolución\n",
    "edad=(int(input(\"ingrese si edad:\")))\n",
    "\n",
    "if edad>=18: #si es mayor de 18 cumple la condicion y se imprime mayor de edad \n",
    "    print(\"es mayor de edad\")\n",
    "    \n",
    "elif (edad<17 and edad>=13): #si la edad esta entre 17 a 13 se imprime adolescente\n",
    "    print(\"es adolescente\")\n",
    "else:\n",
    "    print(\"es niño todavia\") #si no cumple ninguna de las condiciones anteriores se imprime niño todavia\n",
    "# elif edad<14:\n",
    "#     print(\"es niño todavia\")"
   ]
  },
  {
   "cell_type": "markdown",
   "metadata": {},
   "source": [
    "### 4. **Ciclos (while, for)**\n",
    "\n",
    "   - **Actividad 1.1**: Escribir un programa que imprima los números del 1 al 10 usando un bucle `for`.\n",
    "   - **Actividad 1.2**: Usar un bucle `while` para imprimir los números del 1 al 10, e imprimir solo aquellos números que sean divisibles por 2."
   ]
  },
  {
   "cell_type": "code",
   "execution_count": 55,
   "metadata": {},
   "outputs": [
    {
     "name": "stdout",
     "output_type": "stream",
     "text": [
      "1\n",
      "2\n",
      "3\n",
      "4\n",
      "5\n",
      "6\n",
      "7\n",
      "8\n",
      "9\n",
      "10\n",
      "2\n",
      "4\n",
      "6\n",
      "8\n",
      "10\n"
     ]
    }
   ],
   "source": [
    "\n",
    "# todo: Resolución\n",
    "for i in range(1,11,1):\n",
    "    print(i)\n",
    "    \n",
    "#bucle wile\n",
    "\n",
    "numeros=1 #se inicia la variable en 1\n",
    "\n",
    "while numeros<=10:\n",
    "    if numeros%2==0: #condicion para los numeros pares\n",
    "        print(numeros)\n",
    "    numeros+=1\n"
   ]
  },
  {
   "cell_type": "markdown",
   "metadata": {},
   "source": [
    "### 5. **Listas y Bucles**\n",
    "\n",
    "   - **Actividad 1.1**: Crear una lista con 5 números y escribir un programa que imprima cada número de la lista usando un bucle `for`.\n",
    "   - **Actividad 1.2**: Usar un bucle para calcular la suma de los números de la lista."
   ]
  },
  {
   "cell_type": "code",
   "execution_count": 56,
   "metadata": {},
   "outputs": [
    {
     "name": "stdout",
     "output_type": "stream",
     "text": [
      "1\n",
      "2\n",
      "3\n",
      "4\n",
      "5\n",
      "15\n"
     ]
    }
   ],
   "source": [
    "\n",
    "# todo: Resolución\n",
    "list=[1,2,3,4,5]\n",
    "\n",
    "for i in list:\n",
    "    print(i)\n",
    "\n",
    "sum=0 #variable para sumar los numeros de la lista\n",
    "\n",
    "for numero in list:\n",
    "    sum+=numero #suma de los numeros de la lista\n",
    "print(sum)"
   ]
  },
  {
   "cell_type": "markdown",
   "metadata": {},
   "source": [
    "### 6. **Funciones**\n",
    "\n",
    "   - **Actividad 1.1**: Escribir una función llamada `saludo` que reciba un nombre como parámetro y devuelva un saludo personalizado.\n",
    "   - **Actividad 1.2**: Crear una función que reciba dos números y devuelva su suma, resta, multiplicación y división."
   ]
  },
  {
   "cell_type": "code",
   "execution_count": 83,
   "metadata": {},
   "outputs": [
    {
     "name": "stdout",
     "output_type": "stream",
     "text": [
      "hola, Emilio\n",
      "la suma es: 4\n",
      "la resta es: 0\n",
      "la multiplicacion es: 4\n",
      "la division es: 1.0\n"
     ]
    }
   ],
   "source": [
    "\n",
    "# todo: Resolución\n",
    "\n",
    "def saludar(nombre):\n",
    "    print(f\"hola, {nombre}\")\n",
    "\n",
    "saludar(\"Emilio\")\n",
    "\n",
    "nm=(int(input(\"ingrese un numero:\"))) #con el int definimos que sea un numero entero\n",
    "nm1=(int(input(\"ingrese un numero:\")))#el input es para que el usuario ingrese el numero y se le agrega el int antes para que sea un numero entero\n",
    "\n",
    "def operac(nm,nm1):\n",
    "    suma = nm+nm1\n",
    "    resta = nm-nm1\n",
    "    multiplicacion = nm*nm1\n",
    "    division = nm/nm1\n",
    "    return suma, resta, multiplicacion, division\n",
    "suma, resta, multiplicacion, division = operac(nm,nm1)\n",
    "print(f\"la suma es: {suma}\")\n",
    "print(f\"la resta es: {resta}\")\n",
    "print(f\"la multiplicacion es: {multiplicacion}\")\n",
    "print(f\"la division es: {division}\")"
   ]
  },
  {
   "cell_type": "markdown",
   "metadata": {},
   "source": [
    "### 7. **Manejo de cadenas de texto**\n",
    "\n",
    "   - **Actividad 1.1**: Escribir un programa que pida al usuario su nombre y lo imprima en mayúsculas y en minúsculas.\n",
    "   - **Actividad 1.2**: Hacer que el programa imprima la longitud del nombre ingresado (no tener en cuenta los espacios en blanco)."
   ]
  },
  {
   "cell_type": "code",
   "execution_count": null,
   "metadata": {},
   "outputs": [
    {
     "name": "stdout",
     "output_type": "stream",
     "text": [
      "tu nombre esEEE\n",
      "tu nombre eseee\n",
      "tu nombre tiene3 letras\n"
     ]
    }
   ],
   "source": [
    "# tu_nombre = input(\"ingrese su nombre:\")\n",
    "\n",
    "# for i in tu_nombre: #este es una de las formas de recorrer un string\n",
    "#     print(i)\n",
    "\n",
    "# #la forma correcta que nos dijo el profe\n",
    "# for i in range(1,len(tu_nombre)+1): #el 1 adelante de range es para que el inidice no empiece en 0\n",
    "#     print(i)\n",
    "\n",
    "no=input(\"ingrese su nombre:\")\n",
    "\n",
    "\n",
    "print(f\"HOLA {no.upper()}\") #upper es para que el nombre se imprima en mayusculas\n",
    "print(f\"hola {no.lower()}\") #lower es para que el nombre se imprima en minusculas\n",
    "print(f\"tu nombre tiene: {len(no)} letras\") #len es para contar cuantas letras tiene el nombre"
   ]
  },
  {
   "cell_type": "markdown",
   "metadata": {},
   "source": [
    "### 8. **Diccionarios**\n",
    "\n",
    "   - **Actividad1.1**: Crear un diccionario que contenga los nombres de tres personas como claves y sus edades como valores. El programa debe imprimir la edad de cada persona.\n",
    "   - **Actividad1.2**: Escribir un programa que pregunte al usuario un nombre, luego su edad y los agregue al diccionario."
   ]
  },
  {
   "cell_type": "code",
   "execution_count": 60,
   "metadata": {},
   "outputs": [
    {
     "name": "stdout",
     "output_type": "stream",
     "text": [
      "La edad de cada persona que esta en el diccionario es: 20\n",
      "La edad de cada persona que esta en el diccionario es: 20\n",
      "La edad de cada persona que esta en el diccionario es: 23\n",
      "{'Emilio': 20, 'Lucianno': 20, 'marce': 23, 'ensada': 111}\n"
     ]
    }
   ],
   "source": [
    "\n",
    "# todo: Resolución\n",
    "dic_mom={\"Emilio\":20,\"Lucianno\":20 ,\"marce\": 23 } #diccionario\n",
    "\n",
    "for value in dic_mom.values():\n",
    "    print(f\"La edad de cada persona que esta en el diccionario es: {value}\")\n",
    "    \n",
    "    \n",
    "nuevo_nombre = input(\"Ingrese un nombre: \")\n",
    "nueva_edad = int(input(\"Ingrese la edad: \"))\n",
    "\n",
    "dic_mom[nuevo_nombre] = nueva_edad #agregar una clave y valor al diccionario\n",
    "print(dic_mom)\n"
   ]
  },
  {
   "cell_type": "markdown",
   "metadata": {},
   "source": [
    "### 9. **Números aleatorios**\n",
    "\n",
    "   - **Actividad 1.1**: Escribir un programa que genere 5 números aleatorios entre 1 y 100, lo imprima por consola y diga si es mayor o menor a 50.\n",
    "   - **Actividad 1.2**: Sumar los 5 números generados aleatoriamente y en caso de que el resultado sea mayor a 100, mostrar el valor antes de ser mayor a 100 y cuantos números se sumaron para llegar a dicho valor."
   ]
  },
  {
   "cell_type": "code",
   "execution_count": 87,
   "metadata": {},
   "outputs": [
    {
     "name": "stdout",
     "output_type": "stream",
     "text": [
      "El número 10 es menor a 50\n",
      "El número 80 es mayor a 50\n",
      "El número 97 es mayor a 50\n",
      "El número 73 es mayor a 50\n",
      "El número 18 es menor a 50\n",
      "El valor total de la suma de los números antes de llegar a 100 es 90\n"
     ]
    }
   ],
   "source": [
    "import random \n",
    "\n",
    "numeros = []  \n",
    "\n",
    "# Generar 5 números aleatorios y almacenarlos en la lista\n",
    "for i in range(5):\n",
    "    numero = random.randint(1, 100)\n",
    "    if numero > 50:\n",
    "        print(f\"El número {numero} es mayor a 50\")\n",
    "    else:\n",
    "        print(f\"El número {numero} es menor a 50\")\n",
    "\n",
    "    numeros.append(numero)  \n",
    "\n",
    "total = 0  \n",
    "\n",
    "for i in range(5):\n",
    "    if total < 100:\n",
    "        total += numeros[i]\n",
    "    else:\n",
    "        print(f\"El valor total de la suma de los números antes de llegar a 100 es {total-numeros[i-1]}\")\n",
    "        break"
   ]
  },
  {
   "cell_type": "markdown",
   "metadata": {},
   "source": [
    "### 10. **Proyecto Final: Calculadora**\n",
    "\n",
    "   - **Actividad 1.1**: Los estudiantes deben crear una calculadora básica que permita realizar operaciones de suma, resta, multiplicación y división con entradas del usuario. El programa debe pedir al usuario que elija la operación y luego introducir 2 números para realizar el cálculo.\n",
    "   - **Actividad 1.2**: Implementar una opción para que el usuario pueda continuar haciendo cálculos o salir del programa."
   ]
  },
  {
   "cell_type": "code",
   "execution_count": null,
   "metadata": {},
   "outputs": [
    {
     "name": "stdout",
     "output_type": "stream",
     "text": [
      "Resultado de la multiplicación: 2.0\n"
     ]
    }
   ],
   "source": [
    "while True:\n",
    "    num1 = int(input(\"Ingrese el primer número: \"))\n",
    "    num2 = int(input(\"Ingrese el segundo número: \"))\n",
    "\n",
    "    opcion = input(\"Desea realizar 1.Suma, 2.Resta, 3.Multiplicación, 4.División: \")\n",
    "\n",
    "    while opcion not in [\"1\", \"2\", \"3\", \"4\"]:\n",
    "        print(\"Opción no válida. Por favor, elija una opción válida.\")\n",
    "        opcion = input(\"Desea realizar 1.Suma, 2.Resta, 3.Multiplicación, 4.División: \")\n",
    "\n",
    "    if opcion == \"1\":\n",
    "        resultado = num1 + num2\n",
    "    elif opcion == \"2\":\n",
    "        resultado = num1 - num2\n",
    "    elif opcion == \"3\":\n",
    "        resultado = num1 * num2\n",
    "    elif opcion == \"4\":\n",
    "        if num2 != 0:\n",
    "            resultado = num1 / num2\n",
    "        else:\n",
    "            resultado = \"Error: División por cero\"\n",
    "\n",
    "    print(f\"El resultado de la operación es: {resultado}\")\n",
    "\n",
    "    resp = input(\"Si desea continuar presione la s (en minusculas) si no presione cualquier tecla: \")\n",
    "    if resp != \"s\":\n",
    "        break"
   ]
  },
  {
   "cell_type": "markdown",
   "metadata": {},
   "source": [
    "### EXTRA. **Juegos Simples (Adivina el número)**\n",
    "\n",
    "   - **Actividad 1.1**: Escribir un juego donde el programa elija un número aleatorio entre 1 y 100 y el usuario tenga que adivinarlo. El programa debe dar pistas si el número es mayor o menor.\n",
    "   - **Actividad 1.2**: Limitar el número de intentos y mostrar un mensaje de éxito o fracaso al final."
   ]
  }
 ],
 "metadata": {
  "kernelspec": {
   "display_name": "Python 3",
   "language": "python",
   "name": "python3"
  },
  "language_info": {
   "codemirror_mode": {
    "name": "ipython",
    "version": 3
   },
   "file_extension": ".py",
   "mimetype": "text/x-python",
   "name": "python",
   "nbconvert_exporter": "python",
   "pygments_lexer": "ipython3",
   "version": "3.12.9"
  }
 },
 "nbformat": 4,
 "nbformat_minor": 2
}
